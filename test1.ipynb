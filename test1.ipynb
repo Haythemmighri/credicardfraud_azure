{
  "nbformat": 4,
  "nbformat_minor": 0,
  "metadata": {
    "colab": {
      "provenance": []
    },
    "kernelspec": {
      "name": "python3",
      "display_name": "Python 3"
    },
    "language_info": {
      "name": "python"
    }
  },
  "cells": [
    {
      "cell_type": "markdown",
      "source": [
        "First type of code using CNN\n",
        "\n",
        "\n"
      ],
      "metadata": {
        "id": "6g7d1fOLDgAG"
      }
    },
    {
      "cell_type": "markdown",
      "source": [
        "Import the necessary packages that we're going to use"
      ],
      "metadata": {
        "id": "rUyL15O_GnX8"
      }
    },
    {
      "cell_type": "code",
      "source": [
        "!pip install azureml-sdk"
      ],
      "metadata": {
        "colab": {
          "base_uri": "https://localhost:8080/"
        },
        "id": "B9wdoSA_wATm",
        "outputId": "b68a2534-e521-475c-de16-f5d1b6fc5d09"
      },
      "execution_count": 1,
      "outputs": [
        {
          "output_type": "stream",
          "name": "stdout",
          "text": [
            "Requirement already satisfied: azureml-sdk in /usr/local/lib/python3.10/dist-packages (1.56.0)\n",
            "Requirement already satisfied: azureml-core~=1.56.0 in /usr/local/lib/python3.10/dist-packages (from azureml-sdk) (1.56.0)\n",
            "Requirement already satisfied: azureml-dataset-runtime[fuse]~=1.56.0 in /usr/local/lib/python3.10/dist-packages (from azureml-sdk) (1.56.0)\n",
            "Requirement already satisfied: azureml-train-core~=1.56.0 in /usr/local/lib/python3.10/dist-packages (from azureml-sdk) (1.56.0)\n",
            "Requirement already satisfied: azureml-train-automl-client~=1.56.0 in /usr/local/lib/python3.10/dist-packages (from azureml-sdk) (1.56.0)\n",
            "Requirement already satisfied: azureml-pipeline~=1.56.0 in /usr/local/lib/python3.10/dist-packages (from azureml-sdk) (1.56.0)\n",
            "Requirement already satisfied: pytz in /usr/local/lib/python3.10/dist-packages (from azureml-core~=1.56.0->azureml-sdk) (2023.4)\n",
            "Requirement already satisfied: backports.tempfile in /usr/local/lib/python3.10/dist-packages (from azureml-core~=1.56.0->azureml-sdk) (1.0)\n",
            "Requirement already satisfied: pathspec<1.0.0 in /usr/local/lib/python3.10/dist-packages (from azureml-core~=1.56.0->azureml-sdk) (0.12.1)\n",
            "Requirement already satisfied: requests[socks]<3.0.0,>=2.19.1 in /usr/local/lib/python3.10/dist-packages (from azureml-core~=1.56.0->azureml-sdk) (2.31.0)\n",
            "Requirement already satisfied: msal<2.0.0,>=1.15.0 in /usr/local/lib/python3.10/dist-packages (from azureml-core~=1.56.0->azureml-sdk) (1.28.0)\n",
            "Requirement already satisfied: msal-extensions<=2.0.0,>=0.3.0 in /usr/local/lib/python3.10/dist-packages (from azureml-core~=1.56.0->azureml-sdk) (1.1.0)\n",
            "Requirement already satisfied: knack<0.12.0 in /usr/local/lib/python3.10/dist-packages (from azureml-core~=1.56.0->azureml-sdk) (0.11.0)\n",
            "Requirement already satisfied: azure-core<2.0.0 in /usr/local/lib/python3.10/dist-packages (from azureml-core~=1.56.0->azureml-sdk) (1.30.1)\n",
            "Requirement already satisfied: pkginfo in /usr/local/lib/python3.10/dist-packages (from azureml-core~=1.56.0->azureml-sdk) (1.10.0)\n",
            "Requirement already satisfied: argcomplete<4 in /usr/local/lib/python3.10/dist-packages (from azureml-core~=1.56.0->azureml-sdk) (3.3.0)\n",
            "Requirement already satisfied: humanfriendly<11.0,>=4.7 in /usr/local/lib/python3.10/dist-packages (from azureml-core~=1.56.0->azureml-sdk) (10.0)\n",
            "Requirement already satisfied: paramiko<4.0.0,>=2.0.8 in /usr/local/lib/python3.10/dist-packages (from azureml-core~=1.56.0->azureml-sdk) (3.4.0)\n",
            "Requirement already satisfied: azure-mgmt-resource<=24.0.0,>=15.0.0 in /usr/local/lib/python3.10/dist-packages (from azureml-core~=1.56.0->azureml-sdk) (23.1.1)\n",
            "Requirement already satisfied: azure-mgmt-containerregistry<11,>=8.2.0 in /usr/local/lib/python3.10/dist-packages (from azureml-core~=1.56.0->azureml-sdk) (10.3.0)\n",
            "Requirement already satisfied: azure-mgmt-storage<=22.0.0,>=16.0.0 in /usr/local/lib/python3.10/dist-packages (from azureml-core~=1.56.0->azureml-sdk) (21.1.0)\n",
            "Requirement already satisfied: azure-mgmt-keyvault<11.0.0,>=0.40.0 in /usr/local/lib/python3.10/dist-packages (from azureml-core~=1.56.0->azureml-sdk) (10.3.0)\n",
            "Requirement already satisfied: azure-mgmt-authorization<5,>=0.40.0 in /usr/local/lib/python3.10/dist-packages (from azureml-core~=1.56.0->azureml-sdk) (4.0.0)\n",
            "Requirement already satisfied: azure-mgmt-network<=26.0.0 in /usr/local/lib/python3.10/dist-packages (from azureml-core~=1.56.0->azureml-sdk) (25.3.0)\n",
            "Requirement already satisfied: azure-graphrbac<1.0.0,>=0.40.0 in /usr/local/lib/python3.10/dist-packages (from azureml-core~=1.56.0->azureml-sdk) (0.61.1)\n",
            "Requirement already satisfied: azure-common<2.0.0,>=1.1.12 in /usr/local/lib/python3.10/dist-packages (from azureml-core~=1.56.0->azureml-sdk) (1.1.28)\n",
            "Requirement already satisfied: msrest<=0.7.1,>=0.5.1 in /usr/local/lib/python3.10/dist-packages (from azureml-core~=1.56.0->azureml-sdk) (0.7.1)\n",
            "Requirement already satisfied: msrestazure<=0.6.4,>=0.4.33 in /usr/local/lib/python3.10/dist-packages (from azureml-core~=1.56.0->azureml-sdk) (0.6.4)\n",
            "Requirement already satisfied: urllib3<3.0.0,>1.26.17 in /usr/local/lib/python3.10/dist-packages (from azureml-core~=1.56.0->azureml-sdk) (2.0.7)\n",
            "Requirement already satisfied: packaging<=25.0,>=20.0 in /usr/local/lib/python3.10/dist-packages (from azureml-core~=1.56.0->azureml-sdk) (24.0)\n",
            "Requirement already satisfied: python-dateutil<3.0.0,>=2.7.3 in /usr/local/lib/python3.10/dist-packages (from azureml-core~=1.56.0->azureml-sdk) (2.8.2)\n",
            "Requirement already satisfied: ndg-httpsclient<=0.5.1 in /usr/local/lib/python3.10/dist-packages (from azureml-core~=1.56.0->azureml-sdk) (0.5.1)\n",
            "Requirement already satisfied: SecretStorage<4.0.0 in /usr/lib/python3/dist-packages (from azureml-core~=1.56.0->azureml-sdk) (3.3.1)\n",
            "Requirement already satisfied: jsonpickle<4.0.0 in /usr/local/lib/python3.10/dist-packages (from azureml-core~=1.56.0->azureml-sdk) (3.0.4)\n",
            "Requirement already satisfied: contextlib2<22.0.0 in /usr/local/lib/python3.10/dist-packages (from azureml-core~=1.56.0->azureml-sdk) (21.6.0)\n",
            "Requirement already satisfied: docker<8.0.0 in /usr/local/lib/python3.10/dist-packages (from azureml-core~=1.56.0->azureml-sdk) (7.0.0)\n",
            "Requirement already satisfied: PyJWT<3.0.0 in /usr/lib/python3/dist-packages (from azureml-core~=1.56.0->azureml-sdk) (2.3.0)\n",
            "Requirement already satisfied: adal<=1.2.7,>=1.2.0 in /usr/local/lib/python3.10/dist-packages (from azureml-core~=1.56.0->azureml-sdk) (1.2.7)\n",
            "Requirement already satisfied: pyopenssl<25.0.0 in /usr/local/lib/python3.10/dist-packages (from azureml-core~=1.56.0->azureml-sdk) (24.1.0)\n",
            "Requirement already satisfied: jmespath<2.0.0 in /usr/local/lib/python3.10/dist-packages (from azureml-core~=1.56.0->azureml-sdk) (1.0.1)\n",
            "Requirement already satisfied: azureml-dataprep<5.2.0a,>=5.1.0a in /usr/local/lib/python3.10/dist-packages (from azureml-dataset-runtime[fuse]~=1.56.0->azureml-sdk) (5.1.6)\n",
            "Requirement already satisfied: pyarrow>=0.17.0 in /usr/local/lib/python3.10/dist-packages (from azureml-dataset-runtime[fuse]~=1.56.0->azureml-sdk) (14.0.2)\n",
            "Requirement already satisfied: numpy!=1.19.3,<1.24 in /usr/local/lib/python3.10/dist-packages (from azureml-dataset-runtime[fuse]~=1.56.0->azureml-sdk) (1.23.5)\n",
            "Requirement already satisfied: fusepy<4.0.0,>=3.0.1 in /usr/local/lib/python3.10/dist-packages (from azureml-dataset-runtime[fuse]~=1.56.0->azureml-sdk) (3.0.1)\n",
            "Requirement already satisfied: azureml-pipeline-core~=1.56.0 in /usr/local/lib/python3.10/dist-packages (from azureml-pipeline~=1.56.0->azureml-sdk) (1.56.0)\n",
            "Requirement already satisfied: azureml-pipeline-steps~=1.56.0 in /usr/local/lib/python3.10/dist-packages (from azureml-pipeline~=1.56.0->azureml-sdk) (1.56.0)\n",
            "Requirement already satisfied: azureml-automl-core~=1.56.0 in /usr/local/lib/python3.10/dist-packages (from azureml-train-automl-client~=1.56.0->azureml-sdk) (1.56.0)\n",
            "Requirement already satisfied: azureml-telemetry~=1.56.0 in /usr/local/lib/python3.10/dist-packages (from azureml-train-automl-client~=1.56.0->azureml-sdk) (1.56.0)\n",
            "Requirement already satisfied: azureml-train-restclients-hyperdrive~=1.56.0 in /usr/local/lib/python3.10/dist-packages (from azureml-train-core~=1.56.0->azureml-sdk) (1.56.0)\n",
            "Requirement already satisfied: cryptography>=1.1.0 in /usr/local/lib/python3.10/dist-packages (from adal<=1.2.7,>=1.2.0->azureml-core~=1.56.0->azureml-sdk) (42.0.7)\n",
            "Requirement already satisfied: six>=1.11.0 in /usr/local/lib/python3.10/dist-packages (from azure-core<2.0.0->azureml-core~=1.56.0->azureml-sdk) (1.16.0)\n",
            "Requirement already satisfied: typing-extensions>=4.6.0 in /usr/local/lib/python3.10/dist-packages (from azure-core<2.0.0->azureml-core~=1.56.0->azureml-sdk) (4.11.0)\n",
            "Requirement already satisfied: isodate<1.0.0,>=0.6.1 in /usr/local/lib/python3.10/dist-packages (from azure-mgmt-authorization<5,>=0.40.0->azureml-core~=1.56.0->azureml-sdk) (0.6.1)\n",
            "Requirement already satisfied: azure-mgmt-core<2.0.0,>=1.3.2 in /usr/local/lib/python3.10/dist-packages (from azure-mgmt-authorization<5,>=0.40.0->azureml-core~=1.56.0->azureml-sdk) (1.4.0)\n",
            "Requirement already satisfied: azureml-dataprep-native<42.0.0,>=41.0.0 in /usr/local/lib/python3.10/dist-packages (from azureml-dataprep<5.2.0a,>=5.1.0a->azureml-dataset-runtime[fuse]~=1.56.0->azureml-sdk) (41.0.0)\n",
            "Requirement already satisfied: azureml-dataprep-rslex~=2.22.2dev0 in /usr/local/lib/python3.10/dist-packages (from azureml-dataprep<5.2.0a,>=5.1.0a->azureml-dataset-runtime[fuse]~=1.56.0->azureml-sdk) (2.22.2)\n",
            "Requirement already satisfied: cloudpickle<3.0.0,>=1.1.0 in /usr/local/lib/python3.10/dist-packages (from azureml-dataprep<5.2.0a,>=5.1.0a->azureml-dataset-runtime[fuse]~=1.56.0->azureml-sdk) (2.2.1)\n",
            "Requirement already satisfied: azure-identity>=1.7.0 in /usr/local/lib/python3.10/dist-packages (from azureml-dataprep<5.2.0a,>=5.1.0a->azureml-dataset-runtime[fuse]~=1.56.0->azureml-sdk) (1.16.0)\n",
            "Requirement already satisfied: jsonschema in /usr/local/lib/python3.10/dist-packages (from azureml-dataprep<5.2.0a,>=5.1.0a->azureml-dataset-runtime[fuse]~=1.56.0->azureml-sdk) (4.19.2)\n",
            "Requirement already satisfied: pyyaml<7.0.0,>=5.1.0 in /usr/local/lib/python3.10/dist-packages (from azureml-dataprep<5.2.0a,>=5.1.0a->azureml-dataset-runtime[fuse]~=1.56.0->azureml-sdk) (6.0.1)\n",
            "Requirement already satisfied: applicationinsights in /usr/local/lib/python3.10/dist-packages (from azureml-telemetry~=1.56.0->azureml-train-automl-client~=1.56.0->azureml-sdk) (0.11.10)\n",
            "Requirement already satisfied: pygments in /usr/local/lib/python3.10/dist-packages (from knack<0.12.0->azureml-core~=1.56.0->azureml-sdk) (2.16.1)\n",
            "Requirement already satisfied: tabulate in /usr/local/lib/python3.10/dist-packages (from knack<0.12.0->azureml-core~=1.56.0->azureml-sdk) (0.9.0)\n",
            "Requirement already satisfied: portalocker<3,>=1.0 in /usr/local/lib/python3.10/dist-packages (from msal-extensions<=2.0.0,>=0.3.0->azureml-core~=1.56.0->azureml-sdk) (2.8.2)\n",
            "Requirement already satisfied: certifi>=2017.4.17 in /usr/local/lib/python3.10/dist-packages (from msrest<=0.7.1,>=0.5.1->azureml-core~=1.56.0->azureml-sdk) (2024.2.2)\n",
            "Requirement already satisfied: requests-oauthlib>=0.5.0 in /usr/local/lib/python3.10/dist-packages (from msrest<=0.7.1,>=0.5.1->azureml-core~=1.56.0->azureml-sdk) (1.3.1)\n",
            "Requirement already satisfied: pyasn1>=0.1.1 in /usr/local/lib/python3.10/dist-packages (from ndg-httpsclient<=0.5.1->azureml-core~=1.56.0->azureml-sdk) (0.6.0)\n",
            "Requirement already satisfied: bcrypt>=3.2 in /usr/local/lib/python3.10/dist-packages (from paramiko<4.0.0,>=2.0.8->azureml-core~=1.56.0->azureml-sdk) (4.1.3)\n",
            "Requirement already satisfied: pynacl>=1.5 in /usr/local/lib/python3.10/dist-packages (from paramiko<4.0.0,>=2.0.8->azureml-core~=1.56.0->azureml-sdk) (1.5.0)\n",
            "Requirement already satisfied: charset-normalizer<4,>=2 in /usr/local/lib/python3.10/dist-packages (from requests[socks]<3.0.0,>=2.19.1->azureml-core~=1.56.0->azureml-sdk) (3.3.2)\n",
            "Requirement already satisfied: idna<4,>=2.5 in /usr/local/lib/python3.10/dist-packages (from requests[socks]<3.0.0,>=2.19.1->azureml-core~=1.56.0->azureml-sdk) (3.7)\n",
            "Requirement already satisfied: PySocks!=1.5.7,>=1.5.6 in /usr/local/lib/python3.10/dist-packages (from requests[socks]<3.0.0,>=2.19.1->azureml-core~=1.56.0->azureml-sdk) (1.7.1)\n",
            "Requirement already satisfied: backports.weakref in /usr/local/lib/python3.10/dist-packages (from backports.tempfile->azureml-core~=1.56.0->azureml-sdk) (1.0.post1)\n",
            "Requirement already satisfied: cffi>=1.12 in /usr/local/lib/python3.10/dist-packages (from cryptography>=1.1.0->adal<=1.2.7,>=1.2.0->azureml-core~=1.56.0->azureml-sdk) (1.16.0)\n",
            "Requirement already satisfied: oauthlib>=3.0.0 in /usr/local/lib/python3.10/dist-packages (from requests-oauthlib>=0.5.0->msrest<=0.7.1,>=0.5.1->azureml-core~=1.56.0->azureml-sdk) (3.2.2)\n",
            "Requirement already satisfied: attrs>=22.2.0 in /usr/local/lib/python3.10/dist-packages (from jsonschema->azureml-dataprep<5.2.0a,>=5.1.0a->azureml-dataset-runtime[fuse]~=1.56.0->azureml-sdk) (23.2.0)\n",
            "Requirement already satisfied: jsonschema-specifications>=2023.03.6 in /usr/local/lib/python3.10/dist-packages (from jsonschema->azureml-dataprep<5.2.0a,>=5.1.0a->azureml-dataset-runtime[fuse]~=1.56.0->azureml-sdk) (2023.12.1)\n",
            "Requirement already satisfied: referencing>=0.28.4 in /usr/local/lib/python3.10/dist-packages (from jsonschema->azureml-dataprep<5.2.0a,>=5.1.0a->azureml-dataset-runtime[fuse]~=1.56.0->azureml-sdk) (0.35.1)\n",
            "Requirement already satisfied: rpds-py>=0.7.1 in /usr/local/lib/python3.10/dist-packages (from jsonschema->azureml-dataprep<5.2.0a,>=5.1.0a->azureml-dataset-runtime[fuse]~=1.56.0->azureml-sdk) (0.18.1)\n",
            "Requirement already satisfied: pycparser in /usr/local/lib/python3.10/dist-packages (from cffi>=1.12->cryptography>=1.1.0->adal<=1.2.7,>=1.2.0->azureml-core~=1.56.0->azureml-sdk) (2.22)\n"
          ]
        }
      ]
    },
    {
      "cell_type": "code",
      "execution_count": 2,
      "metadata": {
        "colab": {
          "base_uri": "https://localhost:8080/"
        },
        "id": "t69OSSNlDboF",
        "outputId": "415fe23d-5a5b-4832-dbb1-cbb897b72d80"
      },
      "outputs": [
        {
          "output_type": "stream",
          "name": "stdout",
          "text": [
            "2.15.0\n"
          ]
        }
      ],
      "source": [
        "import tensorflow as tf\n",
        "from tensorflow import keras\n",
        "from tensorflow.keras import Sequential\n",
        "from tensorflow.keras.layers import Flatten, Dense, Dropout, BatchNormalization\n",
        "from tensorflow.keras.layers import Conv1D, MaxPool1D\n",
        "from tensorflow.keras.optimizers import Adam\n",
        "print(tf.__version__)"
      ]
    },
    {
      "cell_type": "code",
      "source": [
        "import pandas as pd\n",
        "import numpy as np\n",
        "import  seaborn as sns\n",
        "import matplotlib.pyplot as plt\n",
        "from sklearn.model_selection import train_test_split\n",
        "from sklearn.preprocessing import StandardScaler"
      ],
      "metadata": {
        "id": "G0FVt7T9Gfvr"
      },
      "execution_count": 3,
      "outputs": []
    },
    {
      "cell_type": "code",
      "source": [
        "data = pd.read_csv('/content/drive/MyDrive/Colab Notebooks/Data/creditcard.csv')\n",
        "data.head()"
      ],
      "metadata": {
        "colab": {
          "base_uri": "https://localhost:8080/",
          "height": 256
        },
        "id": "wh5Cia78Guoe",
        "outputId": "22f93ae1-1d83-496d-a55e-473384fd85be"
      },
      "execution_count": 4,
      "outputs": [
        {
          "output_type": "execute_result",
          "data": {
            "text/plain": [
              "   Time        V1        V2        V3        V4        V5        V6        V7  \\\n",
              "0   0.0 -1.359807 -0.072781  2.536347  1.378155 -0.338321  0.462388  0.239599   \n",
              "1   0.0  1.191857  0.266151  0.166480  0.448154  0.060018 -0.082361 -0.078803   \n",
              "2   1.0 -1.358354 -1.340163  1.773209  0.379780 -0.503198  1.800499  0.791461   \n",
              "3   1.0 -0.966272 -0.185226  1.792993 -0.863291 -0.010309  1.247203  0.237609   \n",
              "4   2.0 -1.158233  0.877737  1.548718  0.403034 -0.407193  0.095921  0.592941   \n",
              "\n",
              "         V8        V9  ...       V21       V22       V23       V24       V25  \\\n",
              "0  0.098698  0.363787  ... -0.018307  0.277838 -0.110474  0.066928  0.128539   \n",
              "1  0.085102 -0.255425  ... -0.225775 -0.638672  0.101288 -0.339846  0.167170   \n",
              "2  0.247676 -1.514654  ...  0.247998  0.771679  0.909412 -0.689281 -0.327642   \n",
              "3  0.377436 -1.387024  ... -0.108300  0.005274 -0.190321 -1.175575  0.647376   \n",
              "4 -0.270533  0.817739  ... -0.009431  0.798278 -0.137458  0.141267 -0.206010   \n",
              "\n",
              "        V26       V27       V28  Amount  Class  \n",
              "0 -0.189115  0.133558 -0.021053  149.62      0  \n",
              "1  0.125895 -0.008983  0.014724    2.69      0  \n",
              "2 -0.139097 -0.055353 -0.059752  378.66      0  \n",
              "3 -0.221929  0.062723  0.061458  123.50      0  \n",
              "4  0.502292  0.219422  0.215153   69.99      0  \n",
              "\n",
              "[5 rows x 31 columns]"
            ],
            "text/html": [
              "\n",
              "  <div id=\"df-512f1eea-a2a7-4f17-a236-b2248785a59a\" class=\"colab-df-container\">\n",
              "    <div>\n",
              "<style scoped>\n",
              "    .dataframe tbody tr th:only-of-type {\n",
              "        vertical-align: middle;\n",
              "    }\n",
              "\n",
              "    .dataframe tbody tr th {\n",
              "        vertical-align: top;\n",
              "    }\n",
              "\n",
              "    .dataframe thead th {\n",
              "        text-align: right;\n",
              "    }\n",
              "</style>\n",
              "<table border=\"1\" class=\"dataframe\">\n",
              "  <thead>\n",
              "    <tr style=\"text-align: right;\">\n",
              "      <th></th>\n",
              "      <th>Time</th>\n",
              "      <th>V1</th>\n",
              "      <th>V2</th>\n",
              "      <th>V3</th>\n",
              "      <th>V4</th>\n",
              "      <th>V5</th>\n",
              "      <th>V6</th>\n",
              "      <th>V7</th>\n",
              "      <th>V8</th>\n",
              "      <th>V9</th>\n",
              "      <th>...</th>\n",
              "      <th>V21</th>\n",
              "      <th>V22</th>\n",
              "      <th>V23</th>\n",
              "      <th>V24</th>\n",
              "      <th>V25</th>\n",
              "      <th>V26</th>\n",
              "      <th>V27</th>\n",
              "      <th>V28</th>\n",
              "      <th>Amount</th>\n",
              "      <th>Class</th>\n",
              "    </tr>\n",
              "  </thead>\n",
              "  <tbody>\n",
              "    <tr>\n",
              "      <th>0</th>\n",
              "      <td>0.0</td>\n",
              "      <td>-1.359807</td>\n",
              "      <td>-0.072781</td>\n",
              "      <td>2.536347</td>\n",
              "      <td>1.378155</td>\n",
              "      <td>-0.338321</td>\n",
              "      <td>0.462388</td>\n",
              "      <td>0.239599</td>\n",
              "      <td>0.098698</td>\n",
              "      <td>0.363787</td>\n",
              "      <td>...</td>\n",
              "      <td>-0.018307</td>\n",
              "      <td>0.277838</td>\n",
              "      <td>-0.110474</td>\n",
              "      <td>0.066928</td>\n",
              "      <td>0.128539</td>\n",
              "      <td>-0.189115</td>\n",
              "      <td>0.133558</td>\n",
              "      <td>-0.021053</td>\n",
              "      <td>149.62</td>\n",
              "      <td>0</td>\n",
              "    </tr>\n",
              "    <tr>\n",
              "      <th>1</th>\n",
              "      <td>0.0</td>\n",
              "      <td>1.191857</td>\n",
              "      <td>0.266151</td>\n",
              "      <td>0.166480</td>\n",
              "      <td>0.448154</td>\n",
              "      <td>0.060018</td>\n",
              "      <td>-0.082361</td>\n",
              "      <td>-0.078803</td>\n",
              "      <td>0.085102</td>\n",
              "      <td>-0.255425</td>\n",
              "      <td>...</td>\n",
              "      <td>-0.225775</td>\n",
              "      <td>-0.638672</td>\n",
              "      <td>0.101288</td>\n",
              "      <td>-0.339846</td>\n",
              "      <td>0.167170</td>\n",
              "      <td>0.125895</td>\n",
              "      <td>-0.008983</td>\n",
              "      <td>0.014724</td>\n",
              "      <td>2.69</td>\n",
              "      <td>0</td>\n",
              "    </tr>\n",
              "    <tr>\n",
              "      <th>2</th>\n",
              "      <td>1.0</td>\n",
              "      <td>-1.358354</td>\n",
              "      <td>-1.340163</td>\n",
              "      <td>1.773209</td>\n",
              "      <td>0.379780</td>\n",
              "      <td>-0.503198</td>\n",
              "      <td>1.800499</td>\n",
              "      <td>0.791461</td>\n",
              "      <td>0.247676</td>\n",
              "      <td>-1.514654</td>\n",
              "      <td>...</td>\n",
              "      <td>0.247998</td>\n",
              "      <td>0.771679</td>\n",
              "      <td>0.909412</td>\n",
              "      <td>-0.689281</td>\n",
              "      <td>-0.327642</td>\n",
              "      <td>-0.139097</td>\n",
              "      <td>-0.055353</td>\n",
              "      <td>-0.059752</td>\n",
              "      <td>378.66</td>\n",
              "      <td>0</td>\n",
              "    </tr>\n",
              "    <tr>\n",
              "      <th>3</th>\n",
              "      <td>1.0</td>\n",
              "      <td>-0.966272</td>\n",
              "      <td>-0.185226</td>\n",
              "      <td>1.792993</td>\n",
              "      <td>-0.863291</td>\n",
              "      <td>-0.010309</td>\n",
              "      <td>1.247203</td>\n",
              "      <td>0.237609</td>\n",
              "      <td>0.377436</td>\n",
              "      <td>-1.387024</td>\n",
              "      <td>...</td>\n",
              "      <td>-0.108300</td>\n",
              "      <td>0.005274</td>\n",
              "      <td>-0.190321</td>\n",
              "      <td>-1.175575</td>\n",
              "      <td>0.647376</td>\n",
              "      <td>-0.221929</td>\n",
              "      <td>0.062723</td>\n",
              "      <td>0.061458</td>\n",
              "      <td>123.50</td>\n",
              "      <td>0</td>\n",
              "    </tr>\n",
              "    <tr>\n",
              "      <th>4</th>\n",
              "      <td>2.0</td>\n",
              "      <td>-1.158233</td>\n",
              "      <td>0.877737</td>\n",
              "      <td>1.548718</td>\n",
              "      <td>0.403034</td>\n",
              "      <td>-0.407193</td>\n",
              "      <td>0.095921</td>\n",
              "      <td>0.592941</td>\n",
              "      <td>-0.270533</td>\n",
              "      <td>0.817739</td>\n",
              "      <td>...</td>\n",
              "      <td>-0.009431</td>\n",
              "      <td>0.798278</td>\n",
              "      <td>-0.137458</td>\n",
              "      <td>0.141267</td>\n",
              "      <td>-0.206010</td>\n",
              "      <td>0.502292</td>\n",
              "      <td>0.219422</td>\n",
              "      <td>0.215153</td>\n",
              "      <td>69.99</td>\n",
              "      <td>0</td>\n",
              "    </tr>\n",
              "  </tbody>\n",
              "</table>\n",
              "<p>5 rows × 31 columns</p>\n",
              "</div>\n",
              "    <div class=\"colab-df-buttons\">\n",
              "\n",
              "  <div class=\"colab-df-container\">\n",
              "    <button class=\"colab-df-convert\" onclick=\"convertToInteractive('df-512f1eea-a2a7-4f17-a236-b2248785a59a')\"\n",
              "            title=\"Convert this dataframe to an interactive table.\"\n",
              "            style=\"display:none;\">\n",
              "\n",
              "  <svg xmlns=\"http://www.w3.org/2000/svg\" height=\"24px\" viewBox=\"0 -960 960 960\">\n",
              "    <path d=\"M120-120v-720h720v720H120Zm60-500h600v-160H180v160Zm220 220h160v-160H400v160Zm0 220h160v-160H400v160ZM180-400h160v-160H180v160Zm440 0h160v-160H620v160ZM180-180h160v-160H180v160Zm440 0h160v-160H620v160Z\"/>\n",
              "  </svg>\n",
              "    </button>\n",
              "\n",
              "  <style>\n",
              "    .colab-df-container {\n",
              "      display:flex;\n",
              "      gap: 12px;\n",
              "    }\n",
              "\n",
              "    .colab-df-convert {\n",
              "      background-color: #E8F0FE;\n",
              "      border: none;\n",
              "      border-radius: 50%;\n",
              "      cursor: pointer;\n",
              "      display: none;\n",
              "      fill: #1967D2;\n",
              "      height: 32px;\n",
              "      padding: 0 0 0 0;\n",
              "      width: 32px;\n",
              "    }\n",
              "\n",
              "    .colab-df-convert:hover {\n",
              "      background-color: #E2EBFA;\n",
              "      box-shadow: 0px 1px 2px rgba(60, 64, 67, 0.3), 0px 1px 3px 1px rgba(60, 64, 67, 0.15);\n",
              "      fill: #174EA6;\n",
              "    }\n",
              "\n",
              "    .colab-df-buttons div {\n",
              "      margin-bottom: 4px;\n",
              "    }\n",
              "\n",
              "    [theme=dark] .colab-df-convert {\n",
              "      background-color: #3B4455;\n",
              "      fill: #D2E3FC;\n",
              "    }\n",
              "\n",
              "    [theme=dark] .colab-df-convert:hover {\n",
              "      background-color: #434B5C;\n",
              "      box-shadow: 0px 1px 3px 1px rgba(0, 0, 0, 0.15);\n",
              "      filter: drop-shadow(0px 1px 2px rgba(0, 0, 0, 0.3));\n",
              "      fill: #FFFFFF;\n",
              "    }\n",
              "  </style>\n",
              "\n",
              "    <script>\n",
              "      const buttonEl =\n",
              "        document.querySelector('#df-512f1eea-a2a7-4f17-a236-b2248785a59a button.colab-df-convert');\n",
              "      buttonEl.style.display =\n",
              "        google.colab.kernel.accessAllowed ? 'block' : 'none';\n",
              "\n",
              "      async function convertToInteractive(key) {\n",
              "        const element = document.querySelector('#df-512f1eea-a2a7-4f17-a236-b2248785a59a');\n",
              "        const dataTable =\n",
              "          await google.colab.kernel.invokeFunction('convertToInteractive',\n",
              "                                                    [key], {});\n",
              "        if (!dataTable) return;\n",
              "\n",
              "        const docLinkHtml = 'Like what you see? Visit the ' +\n",
              "          '<a target=\"_blank\" href=https://colab.research.google.com/notebooks/data_table.ipynb>data table notebook</a>'\n",
              "          + ' to learn more about interactive tables.';\n",
              "        element.innerHTML = '';\n",
              "        dataTable['output_type'] = 'display_data';\n",
              "        await google.colab.output.renderOutput(dataTable, element);\n",
              "        const docLink = document.createElement('div');\n",
              "        docLink.innerHTML = docLinkHtml;\n",
              "        element.appendChild(docLink);\n",
              "      }\n",
              "    </script>\n",
              "  </div>\n",
              "\n",
              "\n",
              "<div id=\"df-242d5a71-2efd-41a0-9307-a405601102b1\">\n",
              "  <button class=\"colab-df-quickchart\" onclick=\"quickchart('df-242d5a71-2efd-41a0-9307-a405601102b1')\"\n",
              "            title=\"Suggest charts\"\n",
              "            style=\"display:none;\">\n",
              "\n",
              "<svg xmlns=\"http://www.w3.org/2000/svg\" height=\"24px\"viewBox=\"0 0 24 24\"\n",
              "     width=\"24px\">\n",
              "    <g>\n",
              "        <path d=\"M19 3H5c-1.1 0-2 .9-2 2v14c0 1.1.9 2 2 2h14c1.1 0 2-.9 2-2V5c0-1.1-.9-2-2-2zM9 17H7v-7h2v7zm4 0h-2V7h2v10zm4 0h-2v-4h2v4z\"/>\n",
              "    </g>\n",
              "</svg>\n",
              "  </button>\n",
              "\n",
              "<style>\n",
              "  .colab-df-quickchart {\n",
              "      --bg-color: #E8F0FE;\n",
              "      --fill-color: #1967D2;\n",
              "      --hover-bg-color: #E2EBFA;\n",
              "      --hover-fill-color: #174EA6;\n",
              "      --disabled-fill-color: #AAA;\n",
              "      --disabled-bg-color: #DDD;\n",
              "  }\n",
              "\n",
              "  [theme=dark] .colab-df-quickchart {\n",
              "      --bg-color: #3B4455;\n",
              "      --fill-color: #D2E3FC;\n",
              "      --hover-bg-color: #434B5C;\n",
              "      --hover-fill-color: #FFFFFF;\n",
              "      --disabled-bg-color: #3B4455;\n",
              "      --disabled-fill-color: #666;\n",
              "  }\n",
              "\n",
              "  .colab-df-quickchart {\n",
              "    background-color: var(--bg-color);\n",
              "    border: none;\n",
              "    border-radius: 50%;\n",
              "    cursor: pointer;\n",
              "    display: none;\n",
              "    fill: var(--fill-color);\n",
              "    height: 32px;\n",
              "    padding: 0;\n",
              "    width: 32px;\n",
              "  }\n",
              "\n",
              "  .colab-df-quickchart:hover {\n",
              "    background-color: var(--hover-bg-color);\n",
              "    box-shadow: 0 1px 2px rgba(60, 64, 67, 0.3), 0 1px 3px 1px rgba(60, 64, 67, 0.15);\n",
              "    fill: var(--button-hover-fill-color);\n",
              "  }\n",
              "\n",
              "  .colab-df-quickchart-complete:disabled,\n",
              "  .colab-df-quickchart-complete:disabled:hover {\n",
              "    background-color: var(--disabled-bg-color);\n",
              "    fill: var(--disabled-fill-color);\n",
              "    box-shadow: none;\n",
              "  }\n",
              "\n",
              "  .colab-df-spinner {\n",
              "    border: 2px solid var(--fill-color);\n",
              "    border-color: transparent;\n",
              "    border-bottom-color: var(--fill-color);\n",
              "    animation:\n",
              "      spin 1s steps(1) infinite;\n",
              "  }\n",
              "\n",
              "  @keyframes spin {\n",
              "    0% {\n",
              "      border-color: transparent;\n",
              "      border-bottom-color: var(--fill-color);\n",
              "      border-left-color: var(--fill-color);\n",
              "    }\n",
              "    20% {\n",
              "      border-color: transparent;\n",
              "      border-left-color: var(--fill-color);\n",
              "      border-top-color: var(--fill-color);\n",
              "    }\n",
              "    30% {\n",
              "      border-color: transparent;\n",
              "      border-left-color: var(--fill-color);\n",
              "      border-top-color: var(--fill-color);\n",
              "      border-right-color: var(--fill-color);\n",
              "    }\n",
              "    40% {\n",
              "      border-color: transparent;\n",
              "      border-right-color: var(--fill-color);\n",
              "      border-top-color: var(--fill-color);\n",
              "    }\n",
              "    60% {\n",
              "      border-color: transparent;\n",
              "      border-right-color: var(--fill-color);\n",
              "    }\n",
              "    80% {\n",
              "      border-color: transparent;\n",
              "      border-right-color: var(--fill-color);\n",
              "      border-bottom-color: var(--fill-color);\n",
              "    }\n",
              "    90% {\n",
              "      border-color: transparent;\n",
              "      border-bottom-color: var(--fill-color);\n",
              "    }\n",
              "  }\n",
              "</style>\n",
              "\n",
              "  <script>\n",
              "    async function quickchart(key) {\n",
              "      const quickchartButtonEl =\n",
              "        document.querySelector('#' + key + ' button');\n",
              "      quickchartButtonEl.disabled = true;  // To prevent multiple clicks.\n",
              "      quickchartButtonEl.classList.add('colab-df-spinner');\n",
              "      try {\n",
              "        const charts = await google.colab.kernel.invokeFunction(\n",
              "            'suggestCharts', [key], {});\n",
              "      } catch (error) {\n",
              "        console.error('Error during call to suggestCharts:', error);\n",
              "      }\n",
              "      quickchartButtonEl.classList.remove('colab-df-spinner');\n",
              "      quickchartButtonEl.classList.add('colab-df-quickchart-complete');\n",
              "    }\n",
              "    (() => {\n",
              "      let quickchartButtonEl =\n",
              "        document.querySelector('#df-242d5a71-2efd-41a0-9307-a405601102b1 button');\n",
              "      quickchartButtonEl.style.display =\n",
              "        google.colab.kernel.accessAllowed ? 'block' : 'none';\n",
              "    })();\n",
              "  </script>\n",
              "</div>\n",
              "\n",
              "    </div>\n",
              "  </div>\n"
            ],
            "application/vnd.google.colaboratory.intrinsic+json": {
              "type": "dataframe",
              "variable_name": "data"
            }
          },
          "metadata": {},
          "execution_count": 4
        }
      ]
    },
    {
      "cell_type": "code",
      "source": [
        "data.shape"
      ],
      "metadata": {
        "colab": {
          "base_uri": "https://localhost:8080/"
        },
        "id": "OdQ3JaBMGxQN",
        "outputId": "fa9bb1f1-6481-402a-c0f0-f908803dcb70"
      },
      "execution_count": 5,
      "outputs": [
        {
          "output_type": "execute_result",
          "data": {
            "text/plain": [
              "(284807, 31)"
            ]
          },
          "metadata": {},
          "execution_count": 5
        }
      ]
    },
    {
      "cell_type": "code",
      "source": [
        "data.isnull().sum()"
      ],
      "metadata": {
        "colab": {
          "base_uri": "https://localhost:8080/"
        },
        "id": "hYNOje9VG9iW",
        "outputId": "05c86af7-ee0d-46cf-e280-84e389d597be"
      },
      "execution_count": 6,
      "outputs": [
        {
          "output_type": "execute_result",
          "data": {
            "text/plain": [
              "Time      0\n",
              "V1        0\n",
              "V2        0\n",
              "V3        0\n",
              "V4        0\n",
              "V5        0\n",
              "V6        0\n",
              "V7        0\n",
              "V8        0\n",
              "V9        0\n",
              "V10       0\n",
              "V11       0\n",
              "V12       0\n",
              "V13       0\n",
              "V14       0\n",
              "V15       0\n",
              "V16       0\n",
              "V17       0\n",
              "V18       0\n",
              "V19       0\n",
              "V20       0\n",
              "V21       0\n",
              "V22       0\n",
              "V23       0\n",
              "V24       0\n",
              "V25       0\n",
              "V26       0\n",
              "V27       0\n",
              "V28       0\n",
              "Amount    0\n",
              "Class     0\n",
              "dtype: int64"
            ]
          },
          "metadata": {},
          "execution_count": 6
        }
      ]
    },
    {
      "cell_type": "code",
      "source": [
        "data.info()"
      ],
      "metadata": {
        "colab": {
          "base_uri": "https://localhost:8080/"
        },
        "id": "v9_karktHGMl",
        "outputId": "1e77f2c5-c102-4e1d-99ff-f66e74508580"
      },
      "execution_count": 7,
      "outputs": [
        {
          "output_type": "stream",
          "name": "stdout",
          "text": [
            "<class 'pandas.core.frame.DataFrame'>\n",
            "RangeIndex: 284807 entries, 0 to 284806\n",
            "Data columns (total 31 columns):\n",
            " #   Column  Non-Null Count   Dtype  \n",
            "---  ------  --------------   -----  \n",
            " 0   Time    284807 non-null  float64\n",
            " 1   V1      284807 non-null  float64\n",
            " 2   V2      284807 non-null  float64\n",
            " 3   V3      284807 non-null  float64\n",
            " 4   V4      284807 non-null  float64\n",
            " 5   V5      284807 non-null  float64\n",
            " 6   V6      284807 non-null  float64\n",
            " 7   V7      284807 non-null  float64\n",
            " 8   V8      284807 non-null  float64\n",
            " 9   V9      284807 non-null  float64\n",
            " 10  V10     284807 non-null  float64\n",
            " 11  V11     284807 non-null  float64\n",
            " 12  V12     284807 non-null  float64\n",
            " 13  V13     284807 non-null  float64\n",
            " 14  V14     284807 non-null  float64\n",
            " 15  V15     284807 non-null  float64\n",
            " 16  V16     284807 non-null  float64\n",
            " 17  V17     284807 non-null  float64\n",
            " 18  V18     284807 non-null  float64\n",
            " 19  V19     284807 non-null  float64\n",
            " 20  V20     284807 non-null  float64\n",
            " 21  V21     284807 non-null  float64\n",
            " 22  V22     284807 non-null  float64\n",
            " 23  V23     284807 non-null  float64\n",
            " 24  V24     284807 non-null  float64\n",
            " 25  V25     284807 non-null  float64\n",
            " 26  V26     284807 non-null  float64\n",
            " 27  V27     284807 non-null  float64\n",
            " 28  V28     284807 non-null  float64\n",
            " 29  Amount  284807 non-null  float64\n",
            " 30  Class   284807 non-null  int64  \n",
            "dtypes: float64(30), int64(1)\n",
            "memory usage: 67.4 MB\n"
          ]
        }
      ]
    },
    {
      "cell_type": "code",
      "source": [
        "data['Class'].value_counts()"
      ],
      "metadata": {
        "colab": {
          "base_uri": "https://localhost:8080/"
        },
        "id": "AAsQ2wzRPq9U",
        "outputId": "9b06b24a-b080-4547-e5d5-c975eee42a76"
      },
      "execution_count": 8,
      "outputs": [
        {
          "output_type": "execute_result",
          "data": {
            "text/plain": [
              "Class\n",
              "0    284315\n",
              "1       492\n",
              "Name: count, dtype: int64"
            ]
          },
          "metadata": {},
          "execution_count": 8
        }
      ]
    },
    {
      "cell_type": "code",
      "source": [
        "non_fraud = data[data['Class']==0]\n",
        "fraud = data[data['Class']==1]"
      ],
      "metadata": {
        "id": "oDq-hhhhP3c2"
      },
      "execution_count": 9,
      "outputs": []
    },
    {
      "cell_type": "code",
      "source": [
        "non_fraud.shape, fraud.shape"
      ],
      "metadata": {
        "colab": {
          "base_uri": "https://localhost:8080/"
        },
        "id": "hwxU5EF1QB8g",
        "outputId": "bb117c4a-ee16-470b-f24d-bb63a9cadd38"
      },
      "execution_count": 10,
      "outputs": [
        {
          "output_type": "execute_result",
          "data": {
            "text/plain": [
              "((284315, 31), (492, 31))"
            ]
          },
          "metadata": {},
          "execution_count": 10
        }
      ]
    },
    {
      "cell_type": "code",
      "source": [
        "non_fraud = non_fraud.sample(fraud.shape[0])\n",
        "non_fraud.shape"
      ],
      "metadata": {
        "colab": {
          "base_uri": "https://localhost:8080/"
        },
        "id": "ZuS_JOsUQC7P",
        "outputId": "ffd0f929-f1bf-4944-a15e-b9ff79c4ad17"
      },
      "execution_count": 11,
      "outputs": [
        {
          "output_type": "execute_result",
          "data": {
            "text/plain": [
              "(492, 31)"
            ]
          },
          "metadata": {},
          "execution_count": 11
        }
      ]
    },
    {
      "cell_type": "code",
      "source": [
        "data = pd.concat([fraud, non_fraud], ignore_index=True)\n",
        "data"
      ],
      "metadata": {
        "colab": {
          "base_uri": "https://localhost:8080/",
          "height": 444
        },
        "id": "tfoYQtkYQITY",
        "outputId": "c46f1ba3-bd17-4d6c-e9f2-d1ef8c146521"
      },
      "execution_count": 12,
      "outputs": [
        {
          "output_type": "execute_result",
          "data": {
            "text/plain": [
              "         Time        V1        V2        V3        V4        V5        V6  \\\n",
              "0       406.0 -2.312227  1.951992 -1.609851  3.997906 -0.522188 -1.426545   \n",
              "1       472.0 -3.043541 -3.157307  1.088463  2.288644  1.359805 -1.064823   \n",
              "2      4462.0 -2.303350  1.759247 -0.359745  2.330243 -0.821628 -0.075788   \n",
              "3      6986.0 -4.397974  1.358367 -2.592844  2.679787 -1.128131 -1.706536   \n",
              "4      7519.0  1.234235  3.019740 -4.304597  4.732795  3.624201 -1.357746   \n",
              "..        ...       ...       ...       ...       ...       ...       ...   \n",
              "979   40124.0 -0.882207  0.616394  1.331970  0.512697  1.265184 -1.335671   \n",
              "980   27428.0  0.979092 -0.114013  1.443324  2.714586 -0.511198  1.617772   \n",
              "981  146028.0  0.435586  2.035416 -0.580436  4.702797  1.268735  0.177349   \n",
              "982   68549.0  1.324184 -0.906735 -0.894465 -3.083464  1.127330  3.160367   \n",
              "983   78111.0  1.137953  0.155881  0.943369  1.073654 -0.503018 -0.138580   \n",
              "\n",
              "           V7        V8        V9  ...       V21       V22       V23  \\\n",
              "0   -2.537387  1.391657 -2.770089  ...  0.517232 -0.035049 -0.465211   \n",
              "1    0.325574 -0.067794 -0.270953  ...  0.661696  0.435477  1.375966   \n",
              "2    0.562320 -0.399147 -0.238253  ... -0.294166 -0.932391  0.172726   \n",
              "3   -3.496197 -0.248778 -0.247768  ...  0.573574  0.176968 -0.436207   \n",
              "4    1.713445 -0.496358 -1.282858  ... -0.379068 -0.704181 -0.656805   \n",
              "..        ...       ...       ...  ...       ...       ...       ...   \n",
              "979  1.233036 -0.770068 -0.354385  ... -0.033609  0.285139 -0.541545   \n",
              "980 -0.949644  0.698967  0.382322  ...  0.115140  0.663808 -0.067365   \n",
              "981  0.781953 -0.049584 -1.646652  ... -0.466782 -0.938981  0.097880   \n",
              "982 -1.199942  0.897457  2.332650  ...  0.098716  0.447496 -0.202261   \n",
              "983 -0.308114  0.060470  0.259917  ... -0.018998  0.003482  0.073632   \n",
              "\n",
              "          V24       V25       V26       V27       V28  Amount  Class  \n",
              "0    0.320198  0.044519  0.177840  0.261145 -0.143276    0.00      1  \n",
              "1   -0.293803  0.279798 -0.145362 -0.252773  0.035764  529.00      1  \n",
              "2   -0.087330 -0.156114 -0.542628  0.039566 -0.153029  239.93      1  \n",
              "3   -0.053502  0.252405 -0.657488 -0.827136  0.849573   59.00      1  \n",
              "4   -1.632653  1.488901  0.566797 -0.010016  0.146793    1.00      1  \n",
              "..        ...       ...       ...       ...       ...     ...    ...  \n",
              "979  0.410517  0.203642 -0.417522 -0.409764 -0.350454    9.49      0  \n",
              "980 -0.278160  0.396131  0.259419  0.069696  0.007439    1.52      0  \n",
              "981 -0.654626 -0.703043  0.027275  0.243897 -0.090797    5.51      0  \n",
              "982  1.060137  0.839185 -0.625802  0.106849  0.026271   11.91      0  \n",
              "983  0.069650  0.262506 -0.485266  0.067451  0.036618   14.26      0  \n",
              "\n",
              "[984 rows x 31 columns]"
            ],
            "text/html": [
              "\n",
              "  <div id=\"df-6a797009-991c-4870-a13d-ff7d7a9e4dbe\" class=\"colab-df-container\">\n",
              "    <div>\n",
              "<style scoped>\n",
              "    .dataframe tbody tr th:only-of-type {\n",
              "        vertical-align: middle;\n",
              "    }\n",
              "\n",
              "    .dataframe tbody tr th {\n",
              "        vertical-align: top;\n",
              "    }\n",
              "\n",
              "    .dataframe thead th {\n",
              "        text-align: right;\n",
              "    }\n",
              "</style>\n",
              "<table border=\"1\" class=\"dataframe\">\n",
              "  <thead>\n",
              "    <tr style=\"text-align: right;\">\n",
              "      <th></th>\n",
              "      <th>Time</th>\n",
              "      <th>V1</th>\n",
              "      <th>V2</th>\n",
              "      <th>V3</th>\n",
              "      <th>V4</th>\n",
              "      <th>V5</th>\n",
              "      <th>V6</th>\n",
              "      <th>V7</th>\n",
              "      <th>V8</th>\n",
              "      <th>V9</th>\n",
              "      <th>...</th>\n",
              "      <th>V21</th>\n",
              "      <th>V22</th>\n",
              "      <th>V23</th>\n",
              "      <th>V24</th>\n",
              "      <th>V25</th>\n",
              "      <th>V26</th>\n",
              "      <th>V27</th>\n",
              "      <th>V28</th>\n",
              "      <th>Amount</th>\n",
              "      <th>Class</th>\n",
              "    </tr>\n",
              "  </thead>\n",
              "  <tbody>\n",
              "    <tr>\n",
              "      <th>0</th>\n",
              "      <td>406.0</td>\n",
              "      <td>-2.312227</td>\n",
              "      <td>1.951992</td>\n",
              "      <td>-1.609851</td>\n",
              "      <td>3.997906</td>\n",
              "      <td>-0.522188</td>\n",
              "      <td>-1.426545</td>\n",
              "      <td>-2.537387</td>\n",
              "      <td>1.391657</td>\n",
              "      <td>-2.770089</td>\n",
              "      <td>...</td>\n",
              "      <td>0.517232</td>\n",
              "      <td>-0.035049</td>\n",
              "      <td>-0.465211</td>\n",
              "      <td>0.320198</td>\n",
              "      <td>0.044519</td>\n",
              "      <td>0.177840</td>\n",
              "      <td>0.261145</td>\n",
              "      <td>-0.143276</td>\n",
              "      <td>0.00</td>\n",
              "      <td>1</td>\n",
              "    </tr>\n",
              "    <tr>\n",
              "      <th>1</th>\n",
              "      <td>472.0</td>\n",
              "      <td>-3.043541</td>\n",
              "      <td>-3.157307</td>\n",
              "      <td>1.088463</td>\n",
              "      <td>2.288644</td>\n",
              "      <td>1.359805</td>\n",
              "      <td>-1.064823</td>\n",
              "      <td>0.325574</td>\n",
              "      <td>-0.067794</td>\n",
              "      <td>-0.270953</td>\n",
              "      <td>...</td>\n",
              "      <td>0.661696</td>\n",
              "      <td>0.435477</td>\n",
              "      <td>1.375966</td>\n",
              "      <td>-0.293803</td>\n",
              "      <td>0.279798</td>\n",
              "      <td>-0.145362</td>\n",
              "      <td>-0.252773</td>\n",
              "      <td>0.035764</td>\n",
              "      <td>529.00</td>\n",
              "      <td>1</td>\n",
              "    </tr>\n",
              "    <tr>\n",
              "      <th>2</th>\n",
              "      <td>4462.0</td>\n",
              "      <td>-2.303350</td>\n",
              "      <td>1.759247</td>\n",
              "      <td>-0.359745</td>\n",
              "      <td>2.330243</td>\n",
              "      <td>-0.821628</td>\n",
              "      <td>-0.075788</td>\n",
              "      <td>0.562320</td>\n",
              "      <td>-0.399147</td>\n",
              "      <td>-0.238253</td>\n",
              "      <td>...</td>\n",
              "      <td>-0.294166</td>\n",
              "      <td>-0.932391</td>\n",
              "      <td>0.172726</td>\n",
              "      <td>-0.087330</td>\n",
              "      <td>-0.156114</td>\n",
              "      <td>-0.542628</td>\n",
              "      <td>0.039566</td>\n",
              "      <td>-0.153029</td>\n",
              "      <td>239.93</td>\n",
              "      <td>1</td>\n",
              "    </tr>\n",
              "    <tr>\n",
              "      <th>3</th>\n",
              "      <td>6986.0</td>\n",
              "      <td>-4.397974</td>\n",
              "      <td>1.358367</td>\n",
              "      <td>-2.592844</td>\n",
              "      <td>2.679787</td>\n",
              "      <td>-1.128131</td>\n",
              "      <td>-1.706536</td>\n",
              "      <td>-3.496197</td>\n",
              "      <td>-0.248778</td>\n",
              "      <td>-0.247768</td>\n",
              "      <td>...</td>\n",
              "      <td>0.573574</td>\n",
              "      <td>0.176968</td>\n",
              "      <td>-0.436207</td>\n",
              "      <td>-0.053502</td>\n",
              "      <td>0.252405</td>\n",
              "      <td>-0.657488</td>\n",
              "      <td>-0.827136</td>\n",
              "      <td>0.849573</td>\n",
              "      <td>59.00</td>\n",
              "      <td>1</td>\n",
              "    </tr>\n",
              "    <tr>\n",
              "      <th>4</th>\n",
              "      <td>7519.0</td>\n",
              "      <td>1.234235</td>\n",
              "      <td>3.019740</td>\n",
              "      <td>-4.304597</td>\n",
              "      <td>4.732795</td>\n",
              "      <td>3.624201</td>\n",
              "      <td>-1.357746</td>\n",
              "      <td>1.713445</td>\n",
              "      <td>-0.496358</td>\n",
              "      <td>-1.282858</td>\n",
              "      <td>...</td>\n",
              "      <td>-0.379068</td>\n",
              "      <td>-0.704181</td>\n",
              "      <td>-0.656805</td>\n",
              "      <td>-1.632653</td>\n",
              "      <td>1.488901</td>\n",
              "      <td>0.566797</td>\n",
              "      <td>-0.010016</td>\n",
              "      <td>0.146793</td>\n",
              "      <td>1.00</td>\n",
              "      <td>1</td>\n",
              "    </tr>\n",
              "    <tr>\n",
              "      <th>...</th>\n",
              "      <td>...</td>\n",
              "      <td>...</td>\n",
              "      <td>...</td>\n",
              "      <td>...</td>\n",
              "      <td>...</td>\n",
              "      <td>...</td>\n",
              "      <td>...</td>\n",
              "      <td>...</td>\n",
              "      <td>...</td>\n",
              "      <td>...</td>\n",
              "      <td>...</td>\n",
              "      <td>...</td>\n",
              "      <td>...</td>\n",
              "      <td>...</td>\n",
              "      <td>...</td>\n",
              "      <td>...</td>\n",
              "      <td>...</td>\n",
              "      <td>...</td>\n",
              "      <td>...</td>\n",
              "      <td>...</td>\n",
              "      <td>...</td>\n",
              "    </tr>\n",
              "    <tr>\n",
              "      <th>979</th>\n",
              "      <td>40124.0</td>\n",
              "      <td>-0.882207</td>\n",
              "      <td>0.616394</td>\n",
              "      <td>1.331970</td>\n",
              "      <td>0.512697</td>\n",
              "      <td>1.265184</td>\n",
              "      <td>-1.335671</td>\n",
              "      <td>1.233036</td>\n",
              "      <td>-0.770068</td>\n",
              "      <td>-0.354385</td>\n",
              "      <td>...</td>\n",
              "      <td>-0.033609</td>\n",
              "      <td>0.285139</td>\n",
              "      <td>-0.541545</td>\n",
              "      <td>0.410517</td>\n",
              "      <td>0.203642</td>\n",
              "      <td>-0.417522</td>\n",
              "      <td>-0.409764</td>\n",
              "      <td>-0.350454</td>\n",
              "      <td>9.49</td>\n",
              "      <td>0</td>\n",
              "    </tr>\n",
              "    <tr>\n",
              "      <th>980</th>\n",
              "      <td>27428.0</td>\n",
              "      <td>0.979092</td>\n",
              "      <td>-0.114013</td>\n",
              "      <td>1.443324</td>\n",
              "      <td>2.714586</td>\n",
              "      <td>-0.511198</td>\n",
              "      <td>1.617772</td>\n",
              "      <td>-0.949644</td>\n",
              "      <td>0.698967</td>\n",
              "      <td>0.382322</td>\n",
              "      <td>...</td>\n",
              "      <td>0.115140</td>\n",
              "      <td>0.663808</td>\n",
              "      <td>-0.067365</td>\n",
              "      <td>-0.278160</td>\n",
              "      <td>0.396131</td>\n",
              "      <td>0.259419</td>\n",
              "      <td>0.069696</td>\n",
              "      <td>0.007439</td>\n",
              "      <td>1.52</td>\n",
              "      <td>0</td>\n",
              "    </tr>\n",
              "    <tr>\n",
              "      <th>981</th>\n",
              "      <td>146028.0</td>\n",
              "      <td>0.435586</td>\n",
              "      <td>2.035416</td>\n",
              "      <td>-0.580436</td>\n",
              "      <td>4.702797</td>\n",
              "      <td>1.268735</td>\n",
              "      <td>0.177349</td>\n",
              "      <td>0.781953</td>\n",
              "      <td>-0.049584</td>\n",
              "      <td>-1.646652</td>\n",
              "      <td>...</td>\n",
              "      <td>-0.466782</td>\n",
              "      <td>-0.938981</td>\n",
              "      <td>0.097880</td>\n",
              "      <td>-0.654626</td>\n",
              "      <td>-0.703043</td>\n",
              "      <td>0.027275</td>\n",
              "      <td>0.243897</td>\n",
              "      <td>-0.090797</td>\n",
              "      <td>5.51</td>\n",
              "      <td>0</td>\n",
              "    </tr>\n",
              "    <tr>\n",
              "      <th>982</th>\n",
              "      <td>68549.0</td>\n",
              "      <td>1.324184</td>\n",
              "      <td>-0.906735</td>\n",
              "      <td>-0.894465</td>\n",
              "      <td>-3.083464</td>\n",
              "      <td>1.127330</td>\n",
              "      <td>3.160367</td>\n",
              "      <td>-1.199942</td>\n",
              "      <td>0.897457</td>\n",
              "      <td>2.332650</td>\n",
              "      <td>...</td>\n",
              "      <td>0.098716</td>\n",
              "      <td>0.447496</td>\n",
              "      <td>-0.202261</td>\n",
              "      <td>1.060137</td>\n",
              "      <td>0.839185</td>\n",
              "      <td>-0.625802</td>\n",
              "      <td>0.106849</td>\n",
              "      <td>0.026271</td>\n",
              "      <td>11.91</td>\n",
              "      <td>0</td>\n",
              "    </tr>\n",
              "    <tr>\n",
              "      <th>983</th>\n",
              "      <td>78111.0</td>\n",
              "      <td>1.137953</td>\n",
              "      <td>0.155881</td>\n",
              "      <td>0.943369</td>\n",
              "      <td>1.073654</td>\n",
              "      <td>-0.503018</td>\n",
              "      <td>-0.138580</td>\n",
              "      <td>-0.308114</td>\n",
              "      <td>0.060470</td>\n",
              "      <td>0.259917</td>\n",
              "      <td>...</td>\n",
              "      <td>-0.018998</td>\n",
              "      <td>0.003482</td>\n",
              "      <td>0.073632</td>\n",
              "      <td>0.069650</td>\n",
              "      <td>0.262506</td>\n",
              "      <td>-0.485266</td>\n",
              "      <td>0.067451</td>\n",
              "      <td>0.036618</td>\n",
              "      <td>14.26</td>\n",
              "      <td>0</td>\n",
              "    </tr>\n",
              "  </tbody>\n",
              "</table>\n",
              "<p>984 rows × 31 columns</p>\n",
              "</div>\n",
              "    <div class=\"colab-df-buttons\">\n",
              "\n",
              "  <div class=\"colab-df-container\">\n",
              "    <button class=\"colab-df-convert\" onclick=\"convertToInteractive('df-6a797009-991c-4870-a13d-ff7d7a9e4dbe')\"\n",
              "            title=\"Convert this dataframe to an interactive table.\"\n",
              "            style=\"display:none;\">\n",
              "\n",
              "  <svg xmlns=\"http://www.w3.org/2000/svg\" height=\"24px\" viewBox=\"0 -960 960 960\">\n",
              "    <path d=\"M120-120v-720h720v720H120Zm60-500h600v-160H180v160Zm220 220h160v-160H400v160Zm0 220h160v-160H400v160ZM180-400h160v-160H180v160Zm440 0h160v-160H620v160ZM180-180h160v-160H180v160Zm440 0h160v-160H620v160Z\"/>\n",
              "  </svg>\n",
              "    </button>\n",
              "\n",
              "  <style>\n",
              "    .colab-df-container {\n",
              "      display:flex;\n",
              "      gap: 12px;\n",
              "    }\n",
              "\n",
              "    .colab-df-convert {\n",
              "      background-color: #E8F0FE;\n",
              "      border: none;\n",
              "      border-radius: 50%;\n",
              "      cursor: pointer;\n",
              "      display: none;\n",
              "      fill: #1967D2;\n",
              "      height: 32px;\n",
              "      padding: 0 0 0 0;\n",
              "      width: 32px;\n",
              "    }\n",
              "\n",
              "    .colab-df-convert:hover {\n",
              "      background-color: #E2EBFA;\n",
              "      box-shadow: 0px 1px 2px rgba(60, 64, 67, 0.3), 0px 1px 3px 1px rgba(60, 64, 67, 0.15);\n",
              "      fill: #174EA6;\n",
              "    }\n",
              "\n",
              "    .colab-df-buttons div {\n",
              "      margin-bottom: 4px;\n",
              "    }\n",
              "\n",
              "    [theme=dark] .colab-df-convert {\n",
              "      background-color: #3B4455;\n",
              "      fill: #D2E3FC;\n",
              "    }\n",
              "\n",
              "    [theme=dark] .colab-df-convert:hover {\n",
              "      background-color: #434B5C;\n",
              "      box-shadow: 0px 1px 3px 1px rgba(0, 0, 0, 0.15);\n",
              "      filter: drop-shadow(0px 1px 2px rgba(0, 0, 0, 0.3));\n",
              "      fill: #FFFFFF;\n",
              "    }\n",
              "  </style>\n",
              "\n",
              "    <script>\n",
              "      const buttonEl =\n",
              "        document.querySelector('#df-6a797009-991c-4870-a13d-ff7d7a9e4dbe button.colab-df-convert');\n",
              "      buttonEl.style.display =\n",
              "        google.colab.kernel.accessAllowed ? 'block' : 'none';\n",
              "\n",
              "      async function convertToInteractive(key) {\n",
              "        const element = document.querySelector('#df-6a797009-991c-4870-a13d-ff7d7a9e4dbe');\n",
              "        const dataTable =\n",
              "          await google.colab.kernel.invokeFunction('convertToInteractive',\n",
              "                                                    [key], {});\n",
              "        if (!dataTable) return;\n",
              "\n",
              "        const docLinkHtml = 'Like what you see? Visit the ' +\n",
              "          '<a target=\"_blank\" href=https://colab.research.google.com/notebooks/data_table.ipynb>data table notebook</a>'\n",
              "          + ' to learn more about interactive tables.';\n",
              "        element.innerHTML = '';\n",
              "        dataTable['output_type'] = 'display_data';\n",
              "        await google.colab.output.renderOutput(dataTable, element);\n",
              "        const docLink = document.createElement('div');\n",
              "        docLink.innerHTML = docLinkHtml;\n",
              "        element.appendChild(docLink);\n",
              "      }\n",
              "    </script>\n",
              "  </div>\n",
              "\n",
              "\n",
              "<div id=\"df-e4cb207a-7fd1-4c13-a718-10dac9d1d957\">\n",
              "  <button class=\"colab-df-quickchart\" onclick=\"quickchart('df-e4cb207a-7fd1-4c13-a718-10dac9d1d957')\"\n",
              "            title=\"Suggest charts\"\n",
              "            style=\"display:none;\">\n",
              "\n",
              "<svg xmlns=\"http://www.w3.org/2000/svg\" height=\"24px\"viewBox=\"0 0 24 24\"\n",
              "     width=\"24px\">\n",
              "    <g>\n",
              "        <path d=\"M19 3H5c-1.1 0-2 .9-2 2v14c0 1.1.9 2 2 2h14c1.1 0 2-.9 2-2V5c0-1.1-.9-2-2-2zM9 17H7v-7h2v7zm4 0h-2V7h2v10zm4 0h-2v-4h2v4z\"/>\n",
              "    </g>\n",
              "</svg>\n",
              "  </button>\n",
              "\n",
              "<style>\n",
              "  .colab-df-quickchart {\n",
              "      --bg-color: #E8F0FE;\n",
              "      --fill-color: #1967D2;\n",
              "      --hover-bg-color: #E2EBFA;\n",
              "      --hover-fill-color: #174EA6;\n",
              "      --disabled-fill-color: #AAA;\n",
              "      --disabled-bg-color: #DDD;\n",
              "  }\n",
              "\n",
              "  [theme=dark] .colab-df-quickchart {\n",
              "      --bg-color: #3B4455;\n",
              "      --fill-color: #D2E3FC;\n",
              "      --hover-bg-color: #434B5C;\n",
              "      --hover-fill-color: #FFFFFF;\n",
              "      --disabled-bg-color: #3B4455;\n",
              "      --disabled-fill-color: #666;\n",
              "  }\n",
              "\n",
              "  .colab-df-quickchart {\n",
              "    background-color: var(--bg-color);\n",
              "    border: none;\n",
              "    border-radius: 50%;\n",
              "    cursor: pointer;\n",
              "    display: none;\n",
              "    fill: var(--fill-color);\n",
              "    height: 32px;\n",
              "    padding: 0;\n",
              "    width: 32px;\n",
              "  }\n",
              "\n",
              "  .colab-df-quickchart:hover {\n",
              "    background-color: var(--hover-bg-color);\n",
              "    box-shadow: 0 1px 2px rgba(60, 64, 67, 0.3), 0 1px 3px 1px rgba(60, 64, 67, 0.15);\n",
              "    fill: var(--button-hover-fill-color);\n",
              "  }\n",
              "\n",
              "  .colab-df-quickchart-complete:disabled,\n",
              "  .colab-df-quickchart-complete:disabled:hover {\n",
              "    background-color: var(--disabled-bg-color);\n",
              "    fill: var(--disabled-fill-color);\n",
              "    box-shadow: none;\n",
              "  }\n",
              "\n",
              "  .colab-df-spinner {\n",
              "    border: 2px solid var(--fill-color);\n",
              "    border-color: transparent;\n",
              "    border-bottom-color: var(--fill-color);\n",
              "    animation:\n",
              "      spin 1s steps(1) infinite;\n",
              "  }\n",
              "\n",
              "  @keyframes spin {\n",
              "    0% {\n",
              "      border-color: transparent;\n",
              "      border-bottom-color: var(--fill-color);\n",
              "      border-left-color: var(--fill-color);\n",
              "    }\n",
              "    20% {\n",
              "      border-color: transparent;\n",
              "      border-left-color: var(--fill-color);\n",
              "      border-top-color: var(--fill-color);\n",
              "    }\n",
              "    30% {\n",
              "      border-color: transparent;\n",
              "      border-left-color: var(--fill-color);\n",
              "      border-top-color: var(--fill-color);\n",
              "      border-right-color: var(--fill-color);\n",
              "    }\n",
              "    40% {\n",
              "      border-color: transparent;\n",
              "      border-right-color: var(--fill-color);\n",
              "      border-top-color: var(--fill-color);\n",
              "    }\n",
              "    60% {\n",
              "      border-color: transparent;\n",
              "      border-right-color: var(--fill-color);\n",
              "    }\n",
              "    80% {\n",
              "      border-color: transparent;\n",
              "      border-right-color: var(--fill-color);\n",
              "      border-bottom-color: var(--fill-color);\n",
              "    }\n",
              "    90% {\n",
              "      border-color: transparent;\n",
              "      border-bottom-color: var(--fill-color);\n",
              "    }\n",
              "  }\n",
              "</style>\n",
              "\n",
              "  <script>\n",
              "    async function quickchart(key) {\n",
              "      const quickchartButtonEl =\n",
              "        document.querySelector('#' + key + ' button');\n",
              "      quickchartButtonEl.disabled = true;  // To prevent multiple clicks.\n",
              "      quickchartButtonEl.classList.add('colab-df-spinner');\n",
              "      try {\n",
              "        const charts = await google.colab.kernel.invokeFunction(\n",
              "            'suggestCharts', [key], {});\n",
              "      } catch (error) {\n",
              "        console.error('Error during call to suggestCharts:', error);\n",
              "      }\n",
              "      quickchartButtonEl.classList.remove('colab-df-spinner');\n",
              "      quickchartButtonEl.classList.add('colab-df-quickchart-complete');\n",
              "    }\n",
              "    (() => {\n",
              "      let quickchartButtonEl =\n",
              "        document.querySelector('#df-e4cb207a-7fd1-4c13-a718-10dac9d1d957 button');\n",
              "      quickchartButtonEl.style.display =\n",
              "        google.colab.kernel.accessAllowed ? 'block' : 'none';\n",
              "    })();\n",
              "  </script>\n",
              "</div>\n",
              "\n",
              "  <div id=\"id_fb996e60-dc44-42fb-9897-7c6b62977007\">\n",
              "    <style>\n",
              "      .colab-df-generate {\n",
              "        background-color: #E8F0FE;\n",
              "        border: none;\n",
              "        border-radius: 50%;\n",
              "        cursor: pointer;\n",
              "        display: none;\n",
              "        fill: #1967D2;\n",
              "        height: 32px;\n",
              "        padding: 0 0 0 0;\n",
              "        width: 32px;\n",
              "      }\n",
              "\n",
              "      .colab-df-generate:hover {\n",
              "        background-color: #E2EBFA;\n",
              "        box-shadow: 0px 1px 2px rgba(60, 64, 67, 0.3), 0px 1px 3px 1px rgba(60, 64, 67, 0.15);\n",
              "        fill: #174EA6;\n",
              "      }\n",
              "\n",
              "      [theme=dark] .colab-df-generate {\n",
              "        background-color: #3B4455;\n",
              "        fill: #D2E3FC;\n",
              "      }\n",
              "\n",
              "      [theme=dark] .colab-df-generate:hover {\n",
              "        background-color: #434B5C;\n",
              "        box-shadow: 0px 1px 3px 1px rgba(0, 0, 0, 0.15);\n",
              "        filter: drop-shadow(0px 1px 2px rgba(0, 0, 0, 0.3));\n",
              "        fill: #FFFFFF;\n",
              "      }\n",
              "    </style>\n",
              "    <button class=\"colab-df-generate\" onclick=\"generateWithVariable('data')\"\n",
              "            title=\"Generate code using this dataframe.\"\n",
              "            style=\"display:none;\">\n",
              "\n",
              "  <svg xmlns=\"http://www.w3.org/2000/svg\" height=\"24px\"viewBox=\"0 0 24 24\"\n",
              "       width=\"24px\">\n",
              "    <path d=\"M7,19H8.4L18.45,9,17,7.55,7,17.6ZM5,21V16.75L18.45,3.32a2,2,0,0,1,2.83,0l1.4,1.43a1.91,1.91,0,0,1,.58,1.4,1.91,1.91,0,0,1-.58,1.4L9.25,21ZM18.45,9,17,7.55Zm-12,3A5.31,5.31,0,0,0,4.9,8.1,5.31,5.31,0,0,0,1,6.5,5.31,5.31,0,0,0,4.9,4.9,5.31,5.31,0,0,0,6.5,1,5.31,5.31,0,0,0,8.1,4.9,5.31,5.31,0,0,0,12,6.5,5.46,5.46,0,0,0,6.5,12Z\"/>\n",
              "  </svg>\n",
              "    </button>\n",
              "    <script>\n",
              "      (() => {\n",
              "      const buttonEl =\n",
              "        document.querySelector('#id_fb996e60-dc44-42fb-9897-7c6b62977007 button.colab-df-generate');\n",
              "      buttonEl.style.display =\n",
              "        google.colab.kernel.accessAllowed ? 'block' : 'none';\n",
              "\n",
              "      buttonEl.onclick = () => {\n",
              "        google.colab.notebook.generateWithVariable('data');\n",
              "      }\n",
              "      })();\n",
              "    </script>\n",
              "  </div>\n",
              "\n",
              "    </div>\n",
              "  </div>\n"
            ],
            "application/vnd.google.colaboratory.intrinsic+json": {
              "type": "dataframe",
              "variable_name": "data"
            }
          },
          "metadata": {},
          "execution_count": 12
        }
      ]
    },
    {
      "cell_type": "code",
      "source": [
        "data['Class'].value_counts()"
      ],
      "metadata": {
        "colab": {
          "base_uri": "https://localhost:8080/"
        },
        "id": "C4ksomOoQMdk",
        "outputId": "aa14e980-1f54-45a0-92fa-bfb20b08c27e"
      },
      "execution_count": 13,
      "outputs": [
        {
          "output_type": "execute_result",
          "data": {
            "text/plain": [
              "Class\n",
              "1    492\n",
              "0    492\n",
              "Name: count, dtype: int64"
            ]
          },
          "metadata": {},
          "execution_count": 13
        }
      ]
    },
    {
      "cell_type": "code",
      "source": [
        "X = data.drop('Class', axis = 1)\n",
        "y = data['Class']"
      ],
      "metadata": {
        "id": "OEGURZm6QV0u"
      },
      "execution_count": 14,
      "outputs": []
    },
    {
      "cell_type": "code",
      "source": [
        "X_train, X_test, y_train, y_test = train_test_split(X, y, test_size = 0.2, random_state = 0, stratify = y)"
      ],
      "metadata": {
        "id": "KOLjaacZQZON"
      },
      "execution_count": 15,
      "outputs": []
    },
    {
      "cell_type": "code",
      "source": [
        "X_train.shape, X_test.shape\n"
      ],
      "metadata": {
        "colab": {
          "base_uri": "https://localhost:8080/"
        },
        "id": "R7PtutCwQcjU",
        "outputId": "08ce913d-77a8-4cf4-bfab-c1106a39b932"
      },
      "execution_count": 16,
      "outputs": [
        {
          "output_type": "execute_result",
          "data": {
            "text/plain": [
              "((787, 30), (197, 30))"
            ]
          },
          "metadata": {},
          "execution_count": 16
        }
      ]
    },
    {
      "cell_type": "code",
      "source": [
        "scaler = StandardScaler()\n",
        "X_train = scaler.fit_transform(X_train)\n",
        "X_test = scaler.transform(X_test)"
      ],
      "metadata": {
        "id": "bB3kM3qQQ2Mw"
      },
      "execution_count": 17,
      "outputs": []
    },
    {
      "cell_type": "code",
      "source": [
        "y_train = y_train.to_numpy()\n",
        "y_test = y_test.to_numpy()"
      ],
      "metadata": {
        "id": "5DYIM2S6Q5y1"
      },
      "execution_count": 18,
      "outputs": []
    },
    {
      "cell_type": "code",
      "source": [
        "X_train.shape\n"
      ],
      "metadata": {
        "colab": {
          "base_uri": "https://localhost:8080/"
        },
        "id": "rZPcyNmRQ8Fa",
        "outputId": "fe912f70-f4c7-4627-bdba-ce2a91423aff"
      },
      "execution_count": 19,
      "outputs": [
        {
          "output_type": "execute_result",
          "data": {
            "text/plain": [
              "(787, 30)"
            ]
          },
          "metadata": {},
          "execution_count": 19
        }
      ]
    },
    {
      "cell_type": "code",
      "source": [
        "X_train = X_train.reshape(X_train.shape[0], X_train.shape[1], 1)\n",
        "X_test = X_test.reshape(X_test.shape[0], X_test.shape[1], 1)"
      ],
      "metadata": {
        "id": "Apz5Jq_3Q-SM"
      },
      "execution_count": 20,
      "outputs": []
    },
    {
      "cell_type": "code",
      "source": [
        "X_train.shape, X_test.shape"
      ],
      "metadata": {
        "colab": {
          "base_uri": "https://localhost:8080/"
        },
        "id": "GWwNC2g1RCQ1",
        "outputId": "c80958c5-e556-45f6-e6ea-6811d69b5bec"
      },
      "execution_count": 21,
      "outputs": [
        {
          "output_type": "execute_result",
          "data": {
            "text/plain": [
              "((787, 30, 1), (197, 30, 1))"
            ]
          },
          "metadata": {},
          "execution_count": 21
        }
      ]
    },
    {
      "cell_type": "markdown",
      "source": [
        "BUILD CNN"
      ],
      "metadata": {
        "id": "WZgrljQxRLXg"
      }
    },
    {
      "cell_type": "code",
      "source": [
        "epochs = 20\n",
        "model = Sequential()\n",
        "model.add(Conv1D(32, 2, activation='relu', input_shape = X_train[0].shape))\n",
        "model.add(BatchNormalization())\n",
        "model.add(Dropout(0.2))\n",
        "\n",
        "model.add(Conv1D(64, 2, activation='relu'))\n",
        "model.add(BatchNormalization())\n",
        "model.add(Dropout(0.5))\n",
        "\n",
        "model.add(Flatten())\n",
        "model.add(Dense(64, activation='relu'))\n",
        "model.add(Dropout(0.5))\n",
        "\n",
        "model.add(Dense(1, activation='sigmoid'))"
      ],
      "metadata": {
        "id": "hR16zg3VRH3F"
      },
      "execution_count": 22,
      "outputs": []
    },
    {
      "cell_type": "code",
      "source": [
        "model.summary()"
      ],
      "metadata": {
        "colab": {
          "base_uri": "https://localhost:8080/"
        },
        "id": "7Y6fShydRYoe",
        "outputId": "481bd439-ab28-415d-9173-7bd0ebc045e4"
      },
      "execution_count": 23,
      "outputs": [
        {
          "output_type": "stream",
          "name": "stdout",
          "text": [
            "Model: \"sequential\"\n",
            "_________________________________________________________________\n",
            " Layer (type)                Output Shape              Param #   \n",
            "=================================================================\n",
            " conv1d (Conv1D)             (None, 29, 32)            96        \n",
            "                                                                 \n",
            " batch_normalization (Batch  (None, 29, 32)            128       \n",
            " Normalization)                                                  \n",
            "                                                                 \n",
            " dropout (Dropout)           (None, 29, 32)            0         \n",
            "                                                                 \n",
            " conv1d_1 (Conv1D)           (None, 28, 64)            4160      \n",
            "                                                                 \n",
            " batch_normalization_1 (Bat  (None, 28, 64)            256       \n",
            " chNormalization)                                                \n",
            "                                                                 \n",
            " dropout_1 (Dropout)         (None, 28, 64)            0         \n",
            "                                                                 \n",
            " flatten (Flatten)           (None, 1792)              0         \n",
            "                                                                 \n",
            " dense (Dense)               (None, 64)                114752    \n",
            "                                                                 \n",
            " dropout_2 (Dropout)         (None, 64)                0         \n",
            "                                                                 \n",
            " dense_1 (Dense)             (None, 1)                 65        \n",
            "                                                                 \n",
            "=================================================================\n",
            "Total params: 119457 (466.63 KB)\n",
            "Trainable params: 119265 (465.88 KB)\n",
            "Non-trainable params: 192 (768.00 Byte)\n",
            "_________________________________________________________________\n"
          ]
        }
      ]
    },
    {
      "cell_type": "code",
      "source": [
        "model.compile(optimizer=Adam(lr=0.0001), loss = 'binary_crossentropy', metrics=['accuracy'])"
      ],
      "metadata": {
        "colab": {
          "base_uri": "https://localhost:8080/"
        },
        "id": "16vzkchZRa2t",
        "outputId": "84d023ac-3c7d-4714-ee23-69de440cc7d2"
      },
      "execution_count": 24,
      "outputs": [
        {
          "output_type": "stream",
          "name": "stderr",
          "text": [
            "WARNING:absl:`lr` is deprecated in Keras optimizer, please use `learning_rate` or use the legacy optimizer, e.g.,tf.keras.optimizers.legacy.Adam.\n"
          ]
        }
      ]
    },
    {
      "cell_type": "code",
      "source": [
        "history = model.fit(X_train, y_train, epochs=epochs, validation_data=(X_test, y_test), verbose=1)"
      ],
      "metadata": {
        "colab": {
          "base_uri": "https://localhost:8080/"
        },
        "id": "f_49q4btRgxS",
        "outputId": "ed3d4bf2-219b-4de6-c5a3-1d757a3a4120"
      },
      "execution_count": 25,
      "outputs": [
        {
          "output_type": "stream",
          "name": "stdout",
          "text": [
            "Epoch 1/20\n",
            "25/25 [==============================] - 4s 39ms/step - loss: 0.4590 - accuracy: 0.8412 - val_loss: 0.5566 - val_accuracy: 0.9137\n",
            "Epoch 2/20\n",
            "25/25 [==============================] - 1s 25ms/step - loss: 0.2662 - accuracy: 0.9149 - val_loss: 0.4925 - val_accuracy: 0.8376\n",
            "Epoch 3/20\n",
            "25/25 [==============================] - 1s 26ms/step - loss: 0.2120 - accuracy: 0.9225 - val_loss: 0.4605 - val_accuracy: 0.8173\n",
            "Epoch 4/20\n",
            "25/25 [==============================] - 1s 26ms/step - loss: 0.1729 - accuracy: 0.9314 - val_loss: 0.4698 - val_accuracy: 0.5635\n",
            "Epoch 5/20\n",
            "25/25 [==============================] - 1s 25ms/step - loss: 0.1858 - accuracy: 0.9327 - val_loss: 0.4861 - val_accuracy: 0.5228\n",
            "Epoch 6/20\n",
            "25/25 [==============================] - 1s 30ms/step - loss: 0.1716 - accuracy: 0.9416 - val_loss: 0.3996 - val_accuracy: 0.8122\n",
            "Epoch 7/20\n",
            "25/25 [==============================] - 1s 27ms/step - loss: 0.1557 - accuracy: 0.9403 - val_loss: 0.4543 - val_accuracy: 0.6548\n",
            "Epoch 8/20\n",
            "25/25 [==============================] - 1s 32ms/step - loss: 0.1560 - accuracy: 0.9466 - val_loss: 0.3377 - val_accuracy: 0.8832\n",
            "Epoch 9/20\n",
            "25/25 [==============================] - 1s 34ms/step - loss: 0.1419 - accuracy: 0.9466 - val_loss: 0.3363 - val_accuracy: 0.8731\n",
            "Epoch 10/20\n",
            "25/25 [==============================] - 1s 24ms/step - loss: 0.1420 - accuracy: 0.9428 - val_loss: 0.2636 - val_accuracy: 0.9137\n",
            "Epoch 11/20\n",
            "25/25 [==============================] - 1s 24ms/step - loss: 0.1399 - accuracy: 0.9441 - val_loss: 0.2797 - val_accuracy: 0.9086\n",
            "Epoch 12/20\n",
            "25/25 [==============================] - 1s 22ms/step - loss: 0.1493 - accuracy: 0.9441 - val_loss: 0.3073 - val_accuracy: 0.8680\n",
            "Epoch 13/20\n",
            "25/25 [==============================] - 1s 24ms/step - loss: 0.1286 - accuracy: 0.9530 - val_loss: 0.2270 - val_accuracy: 0.8934\n",
            "Epoch 14/20\n",
            "25/25 [==============================] - 1s 29ms/step - loss: 0.1302 - accuracy: 0.9479 - val_loss: 0.2305 - val_accuracy: 0.8985\n",
            "Epoch 15/20\n",
            "25/25 [==============================] - 1s 20ms/step - loss: 0.1098 - accuracy: 0.9606 - val_loss: 0.2134 - val_accuracy: 0.8934\n",
            "Epoch 16/20\n",
            "25/25 [==============================] - 1s 24ms/step - loss: 0.1188 - accuracy: 0.9581 - val_loss: 0.2164 - val_accuracy: 0.9086\n",
            "Epoch 17/20\n",
            "25/25 [==============================] - 1s 22ms/step - loss: 0.1047 - accuracy: 0.9568 - val_loss: 0.2115 - val_accuracy: 0.8934\n",
            "Epoch 18/20\n",
            "25/25 [==============================] - 1s 22ms/step - loss: 0.1128 - accuracy: 0.9644 - val_loss: 0.2091 - val_accuracy: 0.9086\n",
            "Epoch 19/20\n",
            "25/25 [==============================] - 1s 25ms/step - loss: 0.1285 - accuracy: 0.9517 - val_loss: 0.2130 - val_accuracy: 0.9086\n",
            "Epoch 20/20\n",
            "25/25 [==============================] - 1s 22ms/step - loss: 0.1119 - accuracy: 0.9593 - val_loss: 0.2095 - val_accuracy: 0.9036\n"
          ]
        }
      ]
    },
    {
      "cell_type": "code",
      "source": [
        "def plot_learningCurve(history, epoch):\n",
        "  # Plot training & validation accuracy values\n",
        "  epoch_range = range(1, epoch+1)\n",
        "  plt.plot(epoch_range, history.history['accuracy'])\n",
        "  plt.plot(epoch_range, history.history['val_accuracy'])\n",
        "  plt.title('Model accuracy')\n",
        "  plt.ylabel('Accuracy')\n",
        "  plt.xlabel('Epoch')\n",
        "  plt.legend(['Train', 'Val'], loc='upper left')\n",
        "  plt.show()\n",
        "\n",
        "  # Plot training & validation loss values\n",
        "  plt.plot(epoch_range, history.history['loss'])\n",
        "  plt.plot(epoch_range, history.history['val_loss'])\n",
        "  plt.title('Model loss')\n",
        "  plt.ylabel('Loss')\n",
        "  plt.xlabel('Epoch')\n",
        "  plt.legend(['Train', 'Val'], loc='upper left')\n",
        "  plt.show()"
      ],
      "metadata": {
        "id": "VGciuprZRkmo"
      },
      "execution_count": 26,
      "outputs": []
    },
    {
      "cell_type": "code",
      "source": [
        "plot_learningCurve(history, epochs)"
      ],
      "metadata": {
        "colab": {
          "base_uri": "https://localhost:8080/",
          "height": 927
        },
        "id": "_cV2WyX1Rswf",
        "outputId": "8d8ae55a-30f1-43a4-8d55-b6578d27249d"
      },
      "execution_count": 27,
      "outputs": [
        {
          "output_type": "display_data",
          "data": {
            "text/plain": [
              "<Figure size 640x480 with 1 Axes>"
            ],
            "image/png": "[encoded data removed]"
          },
          "metadata": {}
        },
        {
          "output_type": "display_data",
          "data": {
            "text/plain": [
              "<Figure size 640x480 with 1 Axes>"
            ],
            "image/png": "[encoded data removed]"
          },
          "metadata": {}
        }
      ]
    },
    {
      "cell_type": "markdown",
      "source": [
        "Adding MaxPool"
      ],
      "metadata": {
        "id": "wjxOBhdeR0FF"
      }
    },
    {
      "cell_type": "code",
      "source": [
        "epochs = 50\n",
        "model = Sequential()\n",
        "model.add(Conv1D(32, 2, activation='relu', input_shape = X_train[0].shape))\n",
        "model.add(BatchNormalization())\n",
        "model.add(MaxPool1D(2))\n",
        "model.add(Dropout(0.2))\n",
        "\n",
        "model.add(Conv1D(64, 2, activation='relu'))\n",
        "model.add(BatchNormalization())\n",
        "model.add(MaxPool1D(2))\n",
        "model.add(Dropout(0.5))\n",
        "\n",
        "model.add(Flatten())\n",
        "model.add(Dense(64, activation='relu'))\n",
        "model.add(Dropout(0.5))\n",
        "\n",
        "model.add(Dense(1, activation='sigmoid'))\n",
        "\n",
        "model.compile(optimizer=Adam(lr=0.0001), loss = 'binary_crossentropy', metrics=['accuracy'])\n",
        "history = model.fit(X_train, y_train, epochs=epochs, validation_data=(X_test, y_test), verbose=1)\n",
        "plot_learningCurve(history, epochs)"
      ],
      "metadata": {
        "colab": {
          "base_uri": "https://localhost:8080/",
          "height": 1000
        },
        "id": "IRDv8jZlRv87",
        "outputId": "917aae1a-ad83-4463-e453-b100c809499a"
      },
      "execution_count": 28,
      "outputs": [
        {
          "output_type": "stream",
          "name": "stderr",
          "text": [
            "WARNING:absl:`lr` is deprecated in Keras optimizer, please use `learning_rate` or use the legacy optimizer, e.g.,tf.keras.optimizers.legacy.Adam.\n"
          ]
        },
        {
          "output_type": "stream",
          "name": "stdout",
          "text": [
            "Epoch 1/50\n",
            "25/25 [==============================] - 2s 18ms/step - loss: 0.5872 - accuracy: 0.7421 - val_loss: 0.5766 - val_accuracy: 0.8376\n",
            "Epoch 2/50\n",
            "25/25 [==============================] - 0s 8ms/step - loss: 0.3504 - accuracy: 0.8831 - val_loss: 0.5457 - val_accuracy: 0.8376\n",
            "Epoch 3/50\n",
            "25/25 [==============================] - 0s 8ms/step - loss: 0.2839 - accuracy: 0.8920 - val_loss: 0.5072 - val_accuracy: 0.8223\n",
            "Epoch 4/50\n",
            "25/25 [==============================] - 0s 8ms/step - loss: 0.2589 - accuracy: 0.9111 - val_loss: 0.4678 - val_accuracy: 0.8376\n",
            "Epoch 5/50\n",
            "25/25 [==============================] - 0s 8ms/step - loss: 0.2293 - accuracy: 0.9174 - val_loss: 0.4303 - val_accuracy: 0.8325\n",
            "Epoch 6/50\n",
            "25/25 [==============================] - 0s 8ms/step - loss: 0.2456 - accuracy: 0.9136 - val_loss: 0.4082 - val_accuracy: 0.8325\n",
            "Epoch 7/50\n",
            "25/25 [==============================] - 0s 8ms/step - loss: 0.2091 - accuracy: 0.9263 - val_loss: 0.3707 - val_accuracy: 0.8477\n",
            "Epoch 8/50\n",
            "25/25 [==============================] - 0s 8ms/step - loss: 0.2044 - accuracy: 0.9263 - val_loss: 0.3450 - val_accuracy: 0.8477\n",
            "Epoch 9/50\n",
            "25/25 [==============================] - 0s 8ms/step - loss: 0.2275 - accuracy: 0.9174 - val_loss: 0.3187 - val_accuracy: 0.8629\n",
            "Epoch 10/50\n",
            "25/25 [==============================] - 0s 8ms/step - loss: 0.2147 - accuracy: 0.9225 - val_loss: 0.3000 - val_accuracy: 0.8731\n",
            "Epoch 11/50\n",
            "25/25 [==============================] - 0s 7ms/step - loss: 0.1673 - accuracy: 0.9390 - val_loss: 0.2773 - val_accuracy: 0.8985\n",
            "Epoch 12/50\n",
            "25/25 [==============================] - 0s 8ms/step - loss: 0.1838 - accuracy: 0.9327 - val_loss: 0.2563 - val_accuracy: 0.9086\n",
            "Epoch 13/50\n",
            "25/25 [==============================] - 0s 8ms/step - loss: 0.1829 - accuracy: 0.9288 - val_loss: 0.2515 - val_accuracy: 0.9086\n",
            "Epoch 14/50\n",
            "25/25 [==============================] - 0s 8ms/step - loss: 0.1964 - accuracy: 0.9263 - val_loss: 0.2557 - val_accuracy: 0.9036\n",
            "Epoch 15/50\n",
            "25/25 [==============================] - 0s 8ms/step - loss: 0.1803 - accuracy: 0.9327 - val_loss: 0.2509 - val_accuracy: 0.9086\n",
            "Epoch 16/50\n",
            "25/25 [==============================] - 0s 8ms/step - loss: 0.1557 - accuracy: 0.9403 - val_loss: 0.2422 - val_accuracy: 0.9137\n",
            "Epoch 17/50\n",
            "25/25 [==============================] - 0s 8ms/step - loss: 0.1596 - accuracy: 0.9365 - val_loss: 0.2420 - val_accuracy: 0.9137\n",
            "Epoch 18/50\n",
            "25/25 [==============================] - 0s 8ms/step - loss: 0.1659 - accuracy: 0.9365 - val_loss: 0.2449 - val_accuracy: 0.9137\n",
            "Epoch 19/50\n",
            "25/25 [==============================] - 0s 7ms/step - loss: 0.1628 - accuracy: 0.9428 - val_loss: 0.2335 - val_accuracy: 0.9137\n",
            "Epoch 20/50\n",
            "25/25 [==============================] - 0s 8ms/step - loss: 0.1483 - accuracy: 0.9568 - val_loss: 0.2347 - val_accuracy: 0.9137\n",
            "Epoch 21/50\n",
            "25/25 [==============================] - 0s 8ms/step - loss: 0.1663 - accuracy: 0.9377 - val_loss: 0.2280 - val_accuracy: 0.9137\n",
            "Epoch 22/50\n",
            "25/25 [==============================] - 0s 9ms/step - loss: 0.1612 - accuracy: 0.9416 - val_loss: 0.2321 - val_accuracy: 0.9137\n",
            "Epoch 23/50\n",
            "25/25 [==============================] - 0s 7ms/step - loss: 0.1560 - accuracy: 0.9428 - val_loss: 0.2245 - val_accuracy: 0.9137\n",
            "Epoch 24/50\n",
            "25/25 [==============================] - 0s 8ms/step - loss: 0.1481 - accuracy: 0.9365 - val_loss: 0.2259 - val_accuracy: 0.9137\n",
            "Epoch 25/50\n",
            "25/25 [==============================] - 0s 8ms/step - loss: 0.1704 - accuracy: 0.9479 - val_loss: 0.2192 - val_accuracy: 0.9188\n",
            "Epoch 26/50\n",
            "25/25 [==============================] - 0s 7ms/step - loss: 0.1572 - accuracy: 0.9416 - val_loss: 0.2152 - val_accuracy: 0.9188\n",
            "Epoch 27/50\n",
            "25/25 [==============================] - 0s 12ms/step - loss: 0.1430 - accuracy: 0.9555 - val_loss: 0.2233 - val_accuracy: 0.9188\n",
            "Epoch 28/50\n",
            "25/25 [==============================] - 0s 12ms/step - loss: 0.1509 - accuracy: 0.9441 - val_loss: 0.2048 - val_accuracy: 0.9188\n",
            "Epoch 29/50\n",
            "25/25 [==============================] - 0s 11ms/step - loss: 0.1517 - accuracy: 0.9479 - val_loss: 0.2120 - val_accuracy: 0.9188\n",
            "Epoch 30/50\n",
            "25/25 [==============================] - 0s 13ms/step - loss: 0.1424 - accuracy: 0.9492 - val_loss: 0.2128 - val_accuracy: 0.9188\n",
            "Epoch 31/50\n",
            "25/25 [==============================] - 0s 11ms/step - loss: 0.1567 - accuracy: 0.9403 - val_loss: 0.2137 - val_accuracy: 0.9137\n",
            "Epoch 32/50\n",
            "25/25 [==============================] - 0s 12ms/step - loss: 0.1328 - accuracy: 0.9466 - val_loss: 0.2192 - val_accuracy: 0.9137\n",
            "Epoch 33/50\n",
            "25/25 [==============================] - 0s 12ms/step - loss: 0.1464 - accuracy: 0.9403 - val_loss: 0.2147 - val_accuracy: 0.9137\n",
            "Epoch 34/50\n",
            "25/25 [==============================] - 0s 13ms/step - loss: 0.1312 - accuracy: 0.9428 - val_loss: 0.2143 - val_accuracy: 0.9137\n",
            "Epoch 35/50\n",
            "25/25 [==============================] - 0s 11ms/step - loss: 0.1590 - accuracy: 0.9441 - val_loss: 0.2201 - val_accuracy: 0.9137\n",
            "Epoch 36/50\n",
            "25/25 [==============================] - 0s 13ms/step - loss: 0.1318 - accuracy: 0.9454 - val_loss: 0.2129 - val_accuracy: 0.9188\n",
            "Epoch 37/50\n",
            "25/25 [==============================] - 0s 14ms/step - loss: 0.1435 - accuracy: 0.9454 - val_loss: 0.2152 - val_accuracy: 0.9086\n",
            "Epoch 38/50\n",
            "25/25 [==============================] - 0s 13ms/step - loss: 0.1498 - accuracy: 0.9416 - val_loss: 0.2161 - val_accuracy: 0.9137\n",
            "Epoch 39/50\n",
            "25/25 [==============================] - 0s 13ms/step - loss: 0.1217 - accuracy: 0.9530 - val_loss: 0.2269 - val_accuracy: 0.9137\n",
            "Epoch 40/50\n",
            "25/25 [==============================] - 0s 12ms/step - loss: 0.1375 - accuracy: 0.9517 - val_loss: 0.2168 - val_accuracy: 0.9086\n",
            "Epoch 41/50\n",
            "25/25 [==============================] - 0s 11ms/step - loss: 0.1135 - accuracy: 0.9568 - val_loss: 0.2204 - val_accuracy: 0.9086\n",
            "Epoch 42/50\n",
            "25/25 [==============================] - 0s 8ms/step - loss: 0.1234 - accuracy: 0.9530 - val_loss: 0.2286 - val_accuracy: 0.9086\n",
            "Epoch 43/50\n",
            "25/25 [==============================] - 0s 8ms/step - loss: 0.1393 - accuracy: 0.9428 - val_loss: 0.2249 - val_accuracy: 0.9086\n",
            "Epoch 44/50\n",
            "25/25 [==============================] - 0s 8ms/step - loss: 0.1311 - accuracy: 0.9543 - val_loss: 0.2224 - val_accuracy: 0.9086\n",
            "Epoch 45/50\n",
            "25/25 [==============================] - 0s 9ms/step - loss: 0.1306 - accuracy: 0.9504 - val_loss: 0.2268 - val_accuracy: 0.9137\n",
            "Epoch 46/50\n",
            "25/25 [==============================] - 0s 8ms/step - loss: 0.1274 - accuracy: 0.9479 - val_loss: 0.2208 - val_accuracy: 0.9086\n",
            "Epoch 47/50\n",
            "25/25 [==============================] - 0s 8ms/step - loss: 0.1245 - accuracy: 0.9581 - val_loss: 0.2180 - val_accuracy: 0.9086\n",
            "Epoch 48/50\n",
            "25/25 [==============================] - 0s 8ms/step - loss: 0.1281 - accuracy: 0.9466 - val_loss: 0.2114 - val_accuracy: 0.9137\n",
            "Epoch 49/50\n",
            "25/25 [==============================] - 0s 8ms/step - loss: 0.1247 - accuracy: 0.9543 - val_loss: 0.2184 - val_accuracy: 0.9137\n",
            "Epoch 50/50\n",
            "25/25 [==============================] - 0s 8ms/step - loss: 0.1320 - accuracy: 0.9555 - val_loss: 0.2067 - val_accuracy: 0.9086\n"
          ]
        },
        {
          "output_type": "display_data",
          "data": {
            "text/plain": [
              "<Figure size 640x480 with 1 Axes>"
            ],
            "image/png": "[encoded data removed]"
          },
          "metadata": {}
        },
        {
          "output_type": "display_data",
          "data": {
            "text/plain": [
              "<Figure size 640x480 with 1 Axes>"
            ],
            "image/png": "[encoded data removed]"
          },
          "metadata": {}
        }
      ]
    },
    {
      "cell_type": "code",
      "source": [
        "model.save('model.h5')"
      ],
      "metadata": {
        "id": "SK2DQZ-uR-fc",
        "colab": {
          "base_uri": "https://localhost:8080/"
        },
        "outputId": "028683ca-7727-431c-86fd-281c36c15cd2"
      },
      "execution_count": 29,
      "outputs": [
        {
          "output_type": "stream",
          "name": "stderr",
          "text": [
            "/usr/local/lib/python3.10/dist-packages/keras/src/engine/training.py:3103: UserWarning: You are saving your model as an HDF5 file via `model.save()`. This file format is considered legacy. We recommend using instead the native Keras format, e.g. `model.save('my_model.keras')`.\n",
            "  saving_api.save_model(\n"
          ]
        }
      ]
    }
  ]
}